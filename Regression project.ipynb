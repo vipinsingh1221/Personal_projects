{
 "cells": [
  {
   "cell_type": "code",
   "execution_count": 37,
   "metadata": {},
   "outputs": [],
   "source": [
    "import pandas as pd\n",
    "import numpy as np\n",
    "import matplotlib.pyplot as plt\n",
    "%matplotlib inline\n",
    "import seaborn as sns\n",
    "import sklearn\n",
    "from collections import OrderedDict\n",
    "from sklearn.model_selection import train_test_split,cross_val_score\n",
    "from sklearn.metrics import accuracy_score,r2_score,mean_squared_error\n",
    "from math import sqrt\n",
    "from sklearn.linear_model import LinearRegression"
   ]
  },
  {
   "cell_type": "code",
   "execution_count": 2,
   "metadata": {},
   "outputs": [],
   "source": [
    "df=pd.read_excel('Xiaomi.xlsx')"
   ]
  },
  {
   "cell_type": "code",
   "execution_count": 3,
   "metadata": {},
   "outputs": [
    {
     "data": {
      "text/html": [
       "<div>\n",
       "<style scoped>\n",
       "    .dataframe tbody tr th:only-of-type {\n",
       "        vertical-align: middle;\n",
       "    }\n",
       "\n",
       "    .dataframe tbody tr th {\n",
       "        vertical-align: top;\n",
       "    }\n",
       "\n",
       "    .dataframe thead th {\n",
       "        text-align: right;\n",
       "    }\n",
       "</style>\n",
       "<table border=\"1\" class=\"dataframe\">\n",
       "  <thead>\n",
       "    <tr style=\"text-align: right;\">\n",
       "      <th></th>\n",
       "      <th>TXNID</th>\n",
       "      <th>Day</th>\n",
       "      <th>Browser</th>\n",
       "      <th>Clicks</th>\n",
       "      <th>Pages</th>\n",
       "      <th>Time</th>\n",
       "      <th>Amount</th>\n",
       "    </tr>\n",
       "  </thead>\n",
       "  <tbody>\n",
       "    <tr>\n",
       "      <th>0</th>\n",
       "      <td>1</td>\n",
       "      <td>Friday</td>\n",
       "      <td>Firefox</td>\n",
       "      <td>40</td>\n",
       "      <td>8</td>\n",
       "      <td>18.0</td>\n",
       "      <td>13440.0</td>\n",
       "    </tr>\n",
       "    <tr>\n",
       "      <th>1</th>\n",
       "      <td>2</td>\n",
       "      <td>Friday</td>\n",
       "      <td>Firefox</td>\n",
       "      <td>24</td>\n",
       "      <td>4</td>\n",
       "      <td>10.8</td>\n",
       "      <td>7038.0</td>\n",
       "    </tr>\n",
       "    <tr>\n",
       "      <th>2</th>\n",
       "      <td>3</td>\n",
       "      <td>Friday</td>\n",
       "      <td>Chrome</td>\n",
       "      <td>31</td>\n",
       "      <td>3</td>\n",
       "      <td>13.4</td>\n",
       "      <td>9875.0</td>\n",
       "    </tr>\n",
       "    <tr>\n",
       "      <th>3</th>\n",
       "      <td>4</td>\n",
       "      <td>Friday</td>\n",
       "      <td>Firefox</td>\n",
       "      <td>40</td>\n",
       "      <td>8</td>\n",
       "      <td>18.0</td>\n",
       "      <td>13440.0</td>\n",
       "    </tr>\n",
       "    <tr>\n",
       "      <th>4</th>\n",
       "      <td>5</td>\n",
       "      <td>Friday</td>\n",
       "      <td>Internet Explorer</td>\n",
       "      <td>19</td>\n",
       "      <td>4</td>\n",
       "      <td>5.6</td>\n",
       "      <td>6845.0</td>\n",
       "    </tr>\n",
       "  </tbody>\n",
       "</table>\n",
       "</div>"
      ],
      "text/plain": [
       "   TXNID     Day            Browser  Clicks  Pages  Time   Amount\n",
       "0      1  Friday            Firefox      40      8  18.0  13440.0\n",
       "1      2  Friday            Firefox      24      4  10.8   7038.0\n",
       "2      3  Friday             Chrome      31      3  13.4   9875.0\n",
       "3      4  Friday            Firefox      40      8  18.0  13440.0\n",
       "4      5  Friday  Internet Explorer      19      4   5.6   6845.0"
      ]
     },
     "execution_count": 3,
     "metadata": {},
     "output_type": "execute_result"
    }
   ],
   "source": [
    "df.head()"
   ]
  },
  {
   "cell_type": "code",
   "execution_count": 4,
   "metadata": {},
   "outputs": [
    {
     "name": "stdout",
     "output_type": "stream",
     "text": [
      "<class 'pandas.core.frame.DataFrame'>\n",
      "RangeIndex: 43200 entries, 0 to 43199\n",
      "Data columns (total 7 columns):\n",
      " #   Column   Non-Null Count  Dtype  \n",
      "---  ------   --------------  -----  \n",
      " 0   TXNID    43200 non-null  int64  \n",
      " 1   Day      43200 non-null  object \n",
      " 2   Browser  43200 non-null  object \n",
      " 3   Clicks   43200 non-null  int64  \n",
      " 4   Pages    43200 non-null  int64  \n",
      " 5   Time     43200 non-null  float64\n",
      " 6   Amount   43200 non-null  float64\n",
      "dtypes: float64(2), int64(3), object(2)\n",
      "memory usage: 2.3+ MB\n"
     ]
    }
   ],
   "source": [
    "df.info() # As we can see here there are no null objects in the dataset and when we look at the datatypes, some are int,\n",
    "            # object and float"
   ]
  },
  {
   "cell_type": "markdown",
   "metadata": {},
   "source": [
    "## Here we will handle the Dtype object and for that we will perform encoding with map function"
   ]
  },
  {
   "cell_type": "code",
   "execution_count": 5,
   "metadata": {},
   "outputs": [
    {
     "data": {
      "text/plain": [
       "Friday       9504\n",
       "Monday       7776\n",
       "Tuesday      6048\n",
       "Saturday     6048\n",
       "Wednesday    5184\n",
       "Thursday     4320\n",
       "Sunday       4320\n",
       "Name: Day, dtype: int64"
      ]
     },
     "execution_count": 5,
     "metadata": {},
     "output_type": "execute_result"
    }
   ],
   "source": [
    "df['Day'].value_counts()"
   ]
  },
  {
   "cell_type": "code",
   "execution_count": 6,
   "metadata": {},
   "outputs": [
    {
     "data": {
      "text/plain": [
       "Chrome               23328\n",
       "Firefox              13824\n",
       "Internet Explorer     6048\n",
       "Name: Browser, dtype: int64"
      ]
     },
     "execution_count": 6,
     "metadata": {},
     "output_type": "execute_result"
    }
   ],
   "source": [
    "df['Browser'].value_counts()"
   ]
  },
  {
   "cell_type": "code",
   "execution_count": 7,
   "metadata": {},
   "outputs": [],
   "source": [
    "d={'Monday':1,'Tuesday':2,'Wednesday':3,'Thursday':4,'Friday':5,'Saturday':6,'Sunday':7}\n",
    "b={'Chrome':1,'Firefox':2,'Internet Explorer':3}"
   ]
  },
  {
   "cell_type": "code",
   "execution_count": 8,
   "metadata": {},
   "outputs": [],
   "source": [
    "df['Day']=df['Day'].map(d)\n",
    "df['Browser']=df['Browser'].map(b)"
   ]
  },
  {
   "cell_type": "markdown",
   "metadata": {},
   "source": [
    "## Handling continuous data"
   ]
  },
  {
   "cell_type": "code",
   "execution_count": 9,
   "metadata": {},
   "outputs": [],
   "source": [
    "df['Amount']=df['Amount'].astype('int64')\n",
    "df['Time']=df['Time'].astype('int64')"
   ]
  },
  {
   "cell_type": "code",
   "execution_count": 27,
   "metadata": {},
   "outputs": [
    {
     "data": {
      "text/html": [
       "<div>\n",
       "<style scoped>\n",
       "    .dataframe tbody tr th:only-of-type {\n",
       "        vertical-align: middle;\n",
       "    }\n",
       "\n",
       "    .dataframe tbody tr th {\n",
       "        vertical-align: top;\n",
       "    }\n",
       "\n",
       "    .dataframe thead th {\n",
       "        text-align: right;\n",
       "    }\n",
       "</style>\n",
       "<table border=\"1\" class=\"dataframe\">\n",
       "  <thead>\n",
       "    <tr style=\"text-align: right;\">\n",
       "      <th></th>\n",
       "      <th>Day</th>\n",
       "      <th>Browser</th>\n",
       "      <th>Clicks</th>\n",
       "      <th>Pages</th>\n",
       "      <th>Time</th>\n",
       "      <th>Amount</th>\n",
       "    </tr>\n",
       "  </thead>\n",
       "  <tbody>\n",
       "    <tr>\n",
       "      <th>0</th>\n",
       "      <td>5</td>\n",
       "      <td>2</td>\n",
       "      <td>40</td>\n",
       "      <td>8</td>\n",
       "      <td>18</td>\n",
       "      <td>13440</td>\n",
       "    </tr>\n",
       "    <tr>\n",
       "      <th>1</th>\n",
       "      <td>5</td>\n",
       "      <td>2</td>\n",
       "      <td>24</td>\n",
       "      <td>4</td>\n",
       "      <td>10</td>\n",
       "      <td>7038</td>\n",
       "    </tr>\n",
       "    <tr>\n",
       "      <th>2</th>\n",
       "      <td>5</td>\n",
       "      <td>1</td>\n",
       "      <td>31</td>\n",
       "      <td>3</td>\n",
       "      <td>13</td>\n",
       "      <td>9875</td>\n",
       "    </tr>\n",
       "    <tr>\n",
       "      <th>3</th>\n",
       "      <td>5</td>\n",
       "      <td>2</td>\n",
       "      <td>40</td>\n",
       "      <td>8</td>\n",
       "      <td>18</td>\n",
       "      <td>13440</td>\n",
       "    </tr>\n",
       "    <tr>\n",
       "      <th>4</th>\n",
       "      <td>5</td>\n",
       "      <td>3</td>\n",
       "      <td>19</td>\n",
       "      <td>4</td>\n",
       "      <td>5</td>\n",
       "      <td>6845</td>\n",
       "    </tr>\n",
       "  </tbody>\n",
       "</table>\n",
       "</div>"
      ],
      "text/plain": [
       "   Day  Browser  Clicks  Pages  Time  Amount\n",
       "0    5        2      40      8    18   13440\n",
       "1    5        2      24      4    10    7038\n",
       "2    5        1      31      3    13    9875\n",
       "3    5        2      40      8    18   13440\n",
       "4    5        3      19      4     5    6845"
      ]
     },
     "execution_count": 27,
     "metadata": {},
     "output_type": "execute_result"
    }
   ],
   "source": [
    "df.head()"
   ]
  },
  {
   "cell_type": "markdown",
   "metadata": {},
   "source": [
    "## Next step is we will drop all the columns which are indicating uniqueness"
   ]
  },
  {
   "cell_type": "code",
   "execution_count": 11,
   "metadata": {},
   "outputs": [],
   "source": [
    "df.drop('TXNID',axis=1,inplace=True)"
   ]
  },
  {
   "cell_type": "markdown",
   "metadata": {},
   "source": [
    "## Let's look at the descriptive statistics"
   ]
  },
  {
   "cell_type": "code",
   "execution_count": 12,
   "metadata": {},
   "outputs": [
    {
     "data": {
      "text/html": [
       "<div>\n",
       "<style scoped>\n",
       "    .dataframe tbody tr th:only-of-type {\n",
       "        vertical-align: middle;\n",
       "    }\n",
       "\n",
       "    .dataframe tbody tr th {\n",
       "        vertical-align: top;\n",
       "    }\n",
       "\n",
       "    .dataframe thead th {\n",
       "        text-align: right;\n",
       "    }\n",
       "</style>\n",
       "<table border=\"1\" class=\"dataframe\">\n",
       "  <thead>\n",
       "    <tr style=\"text-align: right;\">\n",
       "      <th></th>\n",
       "      <th>Day</th>\n",
       "      <th>Browser</th>\n",
       "      <th>Clicks</th>\n",
       "      <th>Pages</th>\n",
       "      <th>Time</th>\n",
       "      <th>Amount</th>\n",
       "    </tr>\n",
       "  </thead>\n",
       "  <tbody>\n",
       "    <tr>\n",
       "      <th>count</th>\n",
       "      <td>43200.000000</td>\n",
       "      <td>43200.000000</td>\n",
       "      <td>43200.000000</td>\n",
       "      <td>43200.000000</td>\n",
       "      <td>43200.000000</td>\n",
       "      <td>43200.000000</td>\n",
       "    </tr>\n",
       "    <tr>\n",
       "      <th>mean</th>\n",
       "      <td>3.860000</td>\n",
       "      <td>1.600000</td>\n",
       "      <td>23.740000</td>\n",
       "      <td>4.820000</td>\n",
       "      <td>12.420000</td>\n",
       "      <td>6812.800000</td>\n",
       "    </tr>\n",
       "    <tr>\n",
       "      <th>std</th>\n",
       "      <td>1.990098</td>\n",
       "      <td>0.721119</td>\n",
       "      <td>8.267647</td>\n",
       "      <td>2.016853</td>\n",
       "      <td>5.953522</td>\n",
       "      <td>3201.910817</td>\n",
       "    </tr>\n",
       "    <tr>\n",
       "      <th>min</th>\n",
       "      <td>1.000000</td>\n",
       "      <td>1.000000</td>\n",
       "      <td>8.000000</td>\n",
       "      <td>2.000000</td>\n",
       "      <td>4.000000</td>\n",
       "      <td>1784.000000</td>\n",
       "    </tr>\n",
       "    <tr>\n",
       "      <th>25%</th>\n",
       "      <td>2.000000</td>\n",
       "      <td>1.000000</td>\n",
       "      <td>18.000000</td>\n",
       "      <td>3.000000</td>\n",
       "      <td>8.000000</td>\n",
       "      <td>4473.000000</td>\n",
       "    </tr>\n",
       "    <tr>\n",
       "      <th>50%</th>\n",
       "      <td>4.000000</td>\n",
       "      <td>1.000000</td>\n",
       "      <td>22.500000</td>\n",
       "      <td>4.500000</td>\n",
       "      <td>11.000000</td>\n",
       "      <td>6215.000000</td>\n",
       "    </tr>\n",
       "    <tr>\n",
       "      <th>75%</th>\n",
       "      <td>5.000000</td>\n",
       "      <td>2.000000</td>\n",
       "      <td>29.000000</td>\n",
       "      <td>6.000000</td>\n",
       "      <td>15.000000</td>\n",
       "      <td>8412.000000</td>\n",
       "    </tr>\n",
       "    <tr>\n",
       "      <th>max</th>\n",
       "      <td>7.000000</td>\n",
       "      <td>3.000000</td>\n",
       "      <td>46.000000</td>\n",
       "      <td>10.000000</td>\n",
       "      <td>32.000000</td>\n",
       "      <td>15851.000000</td>\n",
       "    </tr>\n",
       "  </tbody>\n",
       "</table>\n",
       "</div>"
      ],
      "text/plain": [
       "                Day       Browser        Clicks         Pages          Time  \\\n",
       "count  43200.000000  43200.000000  43200.000000  43200.000000  43200.000000   \n",
       "mean       3.860000      1.600000     23.740000      4.820000     12.420000   \n",
       "std        1.990098      0.721119      8.267647      2.016853      5.953522   \n",
       "min        1.000000      1.000000      8.000000      2.000000      4.000000   \n",
       "25%        2.000000      1.000000     18.000000      3.000000      8.000000   \n",
       "50%        4.000000      1.000000     22.500000      4.500000     11.000000   \n",
       "75%        5.000000      2.000000     29.000000      6.000000     15.000000   \n",
       "max        7.000000      3.000000     46.000000     10.000000     32.000000   \n",
       "\n",
       "             Amount  \n",
       "count  43200.000000  \n",
       "mean    6812.800000  \n",
       "std     3201.910817  \n",
       "min     1784.000000  \n",
       "25%     4473.000000  \n",
       "50%     6215.000000  \n",
       "75%     8412.000000  \n",
       "max    15851.000000  "
      ]
     },
     "execution_count": 12,
     "metadata": {},
     "output_type": "execute_result"
    }
   ],
   "source": [
    "df.describe()"
   ]
  },
  {
   "cell_type": "code",
   "execution_count": 13,
   "metadata": {},
   "outputs": [],
   "source": [
    "def custom_descriptive_stats(data):\n",
    "    result=[] # This is an empty list to store the iterated result of stats\n",
    "    skewtype=[]\n",
    "    for col in data.columns:\n",
    "        if data[col].dtype!='O':\n",
    "            stats=OrderedDict({'Feature_name':col,\n",
    "                               'Count':data[col].count(),\n",
    "                               'Minimum':round(data[col].min(),2),\n",
    "                               'Quartile 1':round(data[col].quantile(0.25),2),\n",
    "                               'Mean':round(data[col].mean(),2),\n",
    "                               'Median':round(data[col].median(),2),\n",
    "                               'Quartile 3':round(data[col].quantile(0.75),2),\n",
    "                               'Maximum':round(data[col].max(),2),\n",
    "                               'Variance':round(data[col].var(),2),\n",
    "                               'SD':round(data[col].std(),2),\n",
    "                               'Kurtosis':round(data[col].kurt(),2),\n",
    "                               'Skewness':round(data[col].skew(),2)\n",
    "                               \n",
    "                              })\n",
    "            result.append(stats)\n",
    "    #print(result)\n",
    "    result_df=pd.DataFrame(data=result)\n",
    "    # Adding skew type details to the DataFrame (final_result)\n",
    "    for i in result_df['Skewness']:\n",
    "        if i==0:\n",
    "            skewtype.append('Normal Distribution')\n",
    "        elif -.5<i<.5:\n",
    "            skewtype.append('Fairly skewed Distribution')\n",
    "        elif -1<i<-.5 or .5<i<1:\n",
    "            skewtype.append('Moderately skewed Distribution')\n",
    "        else:\n",
    "            skewtype.append('Highly skewed Distribution')\n",
    "    result_df['Skewtype']=skewtype\n",
    "    return result_df"
   ]
  },
  {
   "cell_type": "code",
   "execution_count": 14,
   "metadata": {},
   "outputs": [
    {
     "data": {
      "text/html": [
       "<div>\n",
       "<style scoped>\n",
       "    .dataframe tbody tr th:only-of-type {\n",
       "        vertical-align: middle;\n",
       "    }\n",
       "\n",
       "    .dataframe tbody tr th {\n",
       "        vertical-align: top;\n",
       "    }\n",
       "\n",
       "    .dataframe thead th {\n",
       "        text-align: right;\n",
       "    }\n",
       "</style>\n",
       "<table border=\"1\" class=\"dataframe\">\n",
       "  <thead>\n",
       "    <tr style=\"text-align: right;\">\n",
       "      <th></th>\n",
       "      <th>Feature_name</th>\n",
       "      <th>Count</th>\n",
       "      <th>Minimum</th>\n",
       "      <th>Quartile 1</th>\n",
       "      <th>Mean</th>\n",
       "      <th>Median</th>\n",
       "      <th>Quartile 3</th>\n",
       "      <th>Maximum</th>\n",
       "      <th>Variance</th>\n",
       "      <th>SD</th>\n",
       "      <th>Kurtosis</th>\n",
       "      <th>Skewness</th>\n",
       "      <th>Skewtype</th>\n",
       "    </tr>\n",
       "  </thead>\n",
       "  <tbody>\n",
       "    <tr>\n",
       "      <th>0</th>\n",
       "      <td>Day</td>\n",
       "      <td>43200</td>\n",
       "      <td>1</td>\n",
       "      <td>2.0</td>\n",
       "      <td>3.86</td>\n",
       "      <td>4.0</td>\n",
       "      <td>5.0</td>\n",
       "      <td>7</td>\n",
       "      <td>3.96</td>\n",
       "      <td>1.99</td>\n",
       "      <td>-1.29</td>\n",
       "      <td>-0.05</td>\n",
       "      <td>Fairly skewed Distribution</td>\n",
       "    </tr>\n",
       "    <tr>\n",
       "      <th>1</th>\n",
       "      <td>Browser</td>\n",
       "      <td>43200</td>\n",
       "      <td>1</td>\n",
       "      <td>1.0</td>\n",
       "      <td>1.60</td>\n",
       "      <td>1.0</td>\n",
       "      <td>2.0</td>\n",
       "      <td>3</td>\n",
       "      <td>0.52</td>\n",
       "      <td>0.72</td>\n",
       "      <td>-0.72</td>\n",
       "      <td>0.77</td>\n",
       "      <td>Moderately skewed Distribution</td>\n",
       "    </tr>\n",
       "    <tr>\n",
       "      <th>2</th>\n",
       "      <td>Clicks</td>\n",
       "      <td>43200</td>\n",
       "      <td>8</td>\n",
       "      <td>18.0</td>\n",
       "      <td>23.74</td>\n",
       "      <td>22.5</td>\n",
       "      <td>29.0</td>\n",
       "      <td>46</td>\n",
       "      <td>68.35</td>\n",
       "      <td>8.27</td>\n",
       "      <td>0.03</td>\n",
       "      <td>0.68</td>\n",
       "      <td>Moderately skewed Distribution</td>\n",
       "    </tr>\n",
       "    <tr>\n",
       "      <th>3</th>\n",
       "      <td>Pages</td>\n",
       "      <td>43200</td>\n",
       "      <td>2</td>\n",
       "      <td>3.0</td>\n",
       "      <td>4.82</td>\n",
       "      <td>4.5</td>\n",
       "      <td>6.0</td>\n",
       "      <td>10</td>\n",
       "      <td>4.07</td>\n",
       "      <td>2.02</td>\n",
       "      <td>0.03</td>\n",
       "      <td>0.63</td>\n",
       "      <td>Moderately skewed Distribution</td>\n",
       "    </tr>\n",
       "    <tr>\n",
       "      <th>4</th>\n",
       "      <td>Time</td>\n",
       "      <td>43200</td>\n",
       "      <td>4</td>\n",
       "      <td>8.0</td>\n",
       "      <td>12.42</td>\n",
       "      <td>11.0</td>\n",
       "      <td>15.0</td>\n",
       "      <td>32</td>\n",
       "      <td>35.44</td>\n",
       "      <td>5.95</td>\n",
       "      <td>2.02</td>\n",
       "      <td>1.42</td>\n",
       "      <td>Highly skewed Distribution</td>\n",
       "    </tr>\n",
       "    <tr>\n",
       "      <th>5</th>\n",
       "      <td>Amount</td>\n",
       "      <td>43200</td>\n",
       "      <td>1784</td>\n",
       "      <td>4473.0</td>\n",
       "      <td>6812.80</td>\n",
       "      <td>6215.0</td>\n",
       "      <td>8412.0</td>\n",
       "      <td>15851</td>\n",
       "      <td>10252232.88</td>\n",
       "      <td>3201.91</td>\n",
       "      <td>0.67</td>\n",
       "      <td>1.02</td>\n",
       "      <td>Highly skewed Distribution</td>\n",
       "    </tr>\n",
       "  </tbody>\n",
       "</table>\n",
       "</div>"
      ],
      "text/plain": [
       "  Feature_name  Count  Minimum  Quartile 1     Mean  Median  Quartile 3  \\\n",
       "0          Day  43200        1         2.0     3.86     4.0         5.0   \n",
       "1      Browser  43200        1         1.0     1.60     1.0         2.0   \n",
       "2       Clicks  43200        8        18.0    23.74    22.5        29.0   \n",
       "3        Pages  43200        2         3.0     4.82     4.5         6.0   \n",
       "4         Time  43200        4         8.0    12.42    11.0        15.0   \n",
       "5       Amount  43200     1784      4473.0  6812.80  6215.0      8412.0   \n",
       "\n",
       "   Maximum     Variance       SD  Kurtosis  Skewness  \\\n",
       "0        7         3.96     1.99     -1.29     -0.05   \n",
       "1        3         0.52     0.72     -0.72      0.77   \n",
       "2       46        68.35     8.27      0.03      0.68   \n",
       "3       10         4.07     2.02      0.03      0.63   \n",
       "4       32        35.44     5.95      2.02      1.42   \n",
       "5    15851  10252232.88  3201.91      0.67      1.02   \n",
       "\n",
       "                         Skewtype  \n",
       "0      Fairly skewed Distribution  \n",
       "1  Moderately skewed Distribution  \n",
       "2  Moderately skewed Distribution  \n",
       "3  Moderately skewed Distribution  \n",
       "4      Highly skewed Distribution  \n",
       "5      Highly skewed Distribution  "
      ]
     },
     "execution_count": 14,
     "metadata": {},
     "output_type": "execute_result"
    }
   ],
   "source": [
    "custom_descriptive_stats(df)"
   ]
  },
  {
   "cell_type": "markdown",
   "metadata": {},
   "source": [
    "## Let's look at the visualization"
   ]
  },
  {
   "cell_type": "code",
   "execution_count": 15,
   "metadata": {},
   "outputs": [
    {
     "data": {
      "text/plain": [
       "<seaborn.axisgrid.PairGrid at 0x28e831eba58>"
      ]
     },
     "execution_count": 15,
     "metadata": {},
     "output_type": "execute_result"
    },
    {
     "data": {
      "image/png": "[encoded data removed]",
      "text/plain": [
       "<Figure size 1080x1080 with 42 Axes>"
      ]
     },
     "metadata": {
      "needs_background": "light"
     },
     "output_type": "display_data"
    }
   ],
   "source": [
    "sns.pairplot(df,kind='dist')"
   ]
  },
  {
   "cell_type": "markdown",
   "metadata": {},
   "source": [
    "## Checking multi-colinearity"
   ]
  },
  {
   "cell_type": "code",
   "execution_count": 16,
   "metadata": {},
   "outputs": [
    {
     "data": {
      "text/plain": [
       "<matplotlib.axes._subplots.AxesSubplot at 0x28e822e5e80>"
      ]
     },
     "execution_count": 16,
     "metadata": {},
     "output_type": "execute_result"
    },
    {
     "data": {
      "image/png": "[encoded data removed]",
      "text/plain": [
       "<Figure size 432x288 with 2 Axes>"
      ]
     },
     "metadata": {
      "needs_background": "light"
     },
     "output_type": "display_data"
    }
   ],
   "source": [
    "sns.heatmap(df.corr(),cmap='YlGnBu',annot=True,square=True,linewidths=0)"
   ]
  },
  {
   "cell_type": "markdown",
   "metadata": {},
   "source": [
    "## Spliting Data"
   ]
  },
  {
   "cell_type": "code",
   "execution_count": 17,
   "metadata": {},
   "outputs": [],
   "source": [
    "x=df.drop('Amount',axis=1)\n",
    "y=df['Amount']"
   ]
  },
  {
   "cell_type": "code",
   "execution_count": 18,
   "metadata": {},
   "outputs": [],
   "source": [
    "# x_train,x_test,y_train,yELk kted4h5dr.;jxdgawhblt' vgY3DK,9HATHANIMAISSOCUTEIKNOWWWWW"
   ]
  },
  {
   "cell_type": "code",
   "execution_count": 19,
   "metadata": {},
   "outputs": [],
   "source": [
    "# x_train,motta is gaandu "
   ]
  },
  {
   "cell_type": "code",
   "execution_count": 20,
   "metadata": {},
   "outputs": [],
   "source": [
    "# motta is chutiya"
   ]
  },
  {
   "cell_type": "code",
   "execution_count": 21,
   "metadata": {},
   "outputs": [],
   "source": [
    "# motta is bakchod"
   ]
  },
  {
   "cell_type": "code",
   "execution_count": 22,
   "metadata": {},
   "outputs": [],
   "source": [
    "x_train,x_test,y_train,y_test=train_test_split(x,y,test_size=0.30,random_state=40)"
   ]
  },
  {
   "cell_type": "markdown",
   "metadata": {},
   "source": [
    "## Building models"
   ]
  },
  {
   "cell_type": "markdown",
   "metadata": {},
   "source": [
    "### Linear Regression"
   ]
  },
  {
   "cell_type": "code",
   "execution_count": 23,
   "metadata": {},
   "outputs": [],
   "source": [
    "lr=LinearRegression()"
   ]
  },
  {
   "cell_type": "code",
   "execution_count": 24,
   "metadata": {},
   "outputs": [
    {
     "data": {
      "text/plain": [
       "LinearRegression()"
      ]
     },
     "execution_count": 24,
     "metadata": {},
     "output_type": "execute_result"
    }
   ],
   "source": [
    "lr.fit(x_train,y_train)"
   ]
  },
  {
   "cell_type": "code",
   "execution_count": 25,
   "metadata": {},
   "outputs": [],
   "source": [
    "lrpred=lr.predict(x_test)"
   ]
  },
  {
   "cell_type": "code",
   "execution_count": 29,
   "metadata": {},
   "outputs": [
    {
     "data": {
      "text/plain": [
       "0.8815052166836567"
      ]
     },
     "execution_count": 29,
     "metadata": {},
     "output_type": "execute_result"
    }
   ],
   "source": [
    "lrscore=r2_score(y_test,lrpred)\n",
    "lrscore"
   ]
  },
  {
   "cell_type": "code",
   "execution_count": 32,
   "metadata": {},
   "outputs": [
    {
     "data": {
      "text/plain": [
       "1104.284764033211"
      ]
     },
     "execution_count": 32,
     "metadata": {},
     "output_type": "execute_result"
    }
   ],
   "source": [
    "rms = sqrt(mean_squared_error(y_test,lrpred))\n",
    "rms"
   ]
  },
  {
   "cell_type": "code",
   "execution_count": 33,
   "metadata": {},
   "outputs": [],
   "source": [
    "# Performing cross validation on Linear Regression"
   ]
  },
  {
   "cell_type": "code",
   "execution_count": 43,
   "metadata": {},
   "outputs": [
    {
     "data": {
      "text/plain": [
       "0.7301813321400107"
      ]
     },
     "execution_count": 43,
     "metadata": {},
     "output_type": "execute_result"
    }
   ],
   "source": [
    "lrcross=cross_val_score(lr,x,y,scoring='r2',cv=10)\n",
    "np.mean(lrcross)"
   ]
  },
  {
   "cell_type": "code",
   "execution_count": 38,
   "metadata": {},
   "outputs": [
    {
     "data": {
      "text/plain": [
       "['accuracy',\n",
       " 'adjusted_mutual_info_score',\n",
       " 'adjusted_rand_score',\n",
       " 'average_precision',\n",
       " 'balanced_accuracy',\n",
       " 'completeness_score',\n",
       " 'explained_variance',\n",
       " 'f1',\n",
       " 'f1_macro',\n",
       " 'f1_micro',\n",
       " 'f1_samples',\n",
       " 'f1_weighted',\n",
       " 'fowlkes_mallows_score',\n",
       " 'homogeneity_score',\n",
       " 'jaccard',\n",
       " 'jaccard_macro',\n",
       " 'jaccard_micro',\n",
       " 'jaccard_samples',\n",
       " 'jaccard_weighted',\n",
       " 'max_error',\n",
       " 'mutual_info_score',\n",
       " 'neg_brier_score',\n",
       " 'neg_log_loss',\n",
       " 'neg_mean_absolute_error',\n",
       " 'neg_mean_gamma_deviance',\n",
       " 'neg_mean_poisson_deviance',\n",
       " 'neg_mean_squared_error',\n",
       " 'neg_mean_squared_log_error',\n",
       " 'neg_median_absolute_error',\n",
       " 'neg_root_mean_squared_error',\n",
       " 'normalized_mutual_info_score',\n",
       " 'precision',\n",
       " 'precision_macro',\n",
       " 'precision_micro',\n",
       " 'precision_samples',\n",
       " 'precision_weighted',\n",
       " 'r2',\n",
       " 'recall',\n",
       " 'recall_macro',\n",
       " 'recall_micro',\n",
       " 'recall_samples',\n",
       " 'recall_weighted',\n",
       " 'roc_auc',\n",
       " 'roc_auc_ovo',\n",
       " 'roc_auc_ovo_weighted',\n",
       " 'roc_auc_ovr',\n",
       " 'roc_auc_ovr_weighted',\n",
       " 'v_measure_score']"
      ]
     },
     "execution_count": 38,
     "metadata": {},
     "output_type": "execute_result"
    }
   ],
   "source": [
    "sorted(sklearn.metrics.SCORERS.keys())"
   ]
  },
  {
   "cell_type": "code",
   "execution_count": null,
   "metadata": {},
   "outputs": [],
   "source": []
  }
 ],
 "metadata": {
  "kernelspec": {
   "display_name": "Python 3",
   "language": "python",
   "name": "python3"
  },
  "language_info": {
   "codemirror_mode": {
    "name": "ipython",
    "version": 3
   },
   "file_extension": ".py",
   "mimetype": "text/x-python",
   "name": "python",
   "nbconvert_exporter": "python",
   "pygments_lexer": "ipython3",
   "version": "3.7.1"
  }
 },
 "nbformat": 4,
 "nbformat_minor": 4
}
